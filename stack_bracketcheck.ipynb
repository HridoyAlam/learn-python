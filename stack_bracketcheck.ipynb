{
 "nbformat": 4,
 "nbformat_minor": 2,
 "metadata": {
  "language_info": {
   "name": "python",
   "codemirror_mode": {
    "name": "ipython",
    "version": 3
   },
   "version": "3.7.3-final"
  },
  "orig_nbformat": 2,
  "file_extension": ".py",
  "mimetype": "text/x-python",
  "name": "python",
  "npconvert_exporter": "python",
  "pygments_lexer": "ipython3",
  "version": 3,
  "kernelspec": {
   "name": "python3",
   "display_name": "Python 3"
  }
 },
 "cells": [
  {
   "cell_type": "code",
   "execution_count": 10,
   "metadata": {},
   "outputs": [],
   "source": [
    "class Stack:\n",
    "\n",
    "    def __init__(self):\n",
    "        self.items = []\n",
    "\n",
    "    def push(self,items):\n",
    "        self.items.append(items)\n",
    "    \n",
    "    def pop(self):\n",
    "        self.items.pop()\n",
    "    def is_empty(self):\n",
    "        if self.items ==[]:\n",
    "            return True\n",
    "        return False\n",
    ""
   ]
  },
  {
   "cell_type": "code",
   "execution_count": 19,
   "metadata": {},
   "outputs": [],
   "source": [
    "def is_balanced(input_str):\n",
    "    s = list()\n",
    "\n",
    "    for ch in input_str:\n",
    "        if ch =='(' or ch =='{' or ch =='[':\n",
    "            s.append(ch)\n",
    "        if ch ==')' or ch =='}' or ch==']':\n",
    "            if not s:\n",
    "                return False\n",
    "            s.pop()\n",
    "    return not s"
   ]
  },
  {
   "cell_type": "code",
   "execution_count": 21,
   "metadata": {},
   "outputs": [
    {
     "output_type": "stream",
     "name": "stdout",
     "text": ")(  is not balanced\n"
    }
   ],
   "source": [
    "if __name__ == \"__main__\":\n",
    "    input_str = input()\n",
    "\n",
    "    if is_balanced(input_str):\n",
    "        print(input_str, \"is balanced\")\n",
    "    else:\n",
    "        print(input_str, \" is not balanced\")"
   ]
  },
  {
   "cell_type": "code",
   "execution_count": null,
   "metadata": {},
   "outputs": [],
   "source": []
  }
 ]
}