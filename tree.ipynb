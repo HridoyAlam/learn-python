{
 "nbformat": 4,
 "nbformat_minor": 2,
 "metadata": {
  "language_info": {
   "name": "python",
   "codemirror_mode": {
    "name": "ipython",
    "version": 3
   },
   "version": "3.7.3-final"
  },
  "orig_nbformat": 2,
  "file_extension": ".py",
  "mimetype": "text/x-python",
  "name": "python",
  "npconvert_exporter": "python",
  "pygments_lexer": "ipython3",
  "version": 3,
  "kernelspec": {
   "name": "python3",
   "display_name": "Python 3"
  }
 },
 "cells": [
  {
   "cell_type": "code",
   "execution_count": 4,
   "metadata": {
    "pycharm": {
     "is_executing": false
    }
   },
   "outputs": [],
   "source": [
    "class Node:\n",
    "    def __init__(self,data):\n",
    "        self.data = data\n",
    "        self.left = None\n",
    "        self.right = None\n",
    "    \n",
    "    def __repr__(self):\n",
    "        return repr(self.data)\n",
    "    \n",
    "    def add_left(self, node):\n",
    "        self.left = node\n",
    "    \n",
    "    def add_right(self, node):\n",
    "        self.right = node\n",
    "    \n",
    "    "
   ]
  },
  {
   "cell_type": "code",
   "execution_count": 5,
   "metadata": {
    "pycharm": {
     "is_executing": false
    }
   },
   "outputs": [],
   "source": [
    "def create_tree():\n",
    "    two = Node(2)\n",
    "    seven = Node(7)\n",
    "    nine = Node(9)\n",
    "    two.add_left(seven)\n",
    "    two.add_right(nine)\n",
    "\n",
    "    one = Node(1)\n",
    "    six = Node(6)\n",
    "    seven.add_left(1)\n",
    "    seven.add_right(6)\n",
    "\n",
    "    eight = Node(8)\n",
    "    nine.add_right(eight)\n",
    "\n",
    "    five = Node(5)\n",
    "    ten = Node(10)\n",
    "    three = Node(3)\n",
    "    four = Node(4)\n",
    "\n",
    "    six.add_left(five)\n",
    "    six.add_right(ten)\n",
    "    eight.add_left(three)\n",
    "    eight.add_right(four)\n",
    "\n",
    "    #now return the root node\n",
    "    return two\n",
    ""
   ]
  },
  {
   "cell_type": "code",
   "execution_count": 6,
   "metadata": {
    "pycharm": {
     "is_executing": false
    }
   },
   "outputs": [
    {
     "name": "stdout",
     "text": [
      "2\n"
     ],
     "output_type": "stream"
    }
   ],
   "source": [
    "if __name__ == \"__main__\":\n",
    "    root = create_tree()\n",
    "    print(root)"
   ]
  },
  {
   "cell_type": "code",
   "execution_count": 6,
   "metadata": {
    "pycharm": {
     "is_executing": false
    }
   },
   "outputs": [],
   "source": []
  }
 ]
}