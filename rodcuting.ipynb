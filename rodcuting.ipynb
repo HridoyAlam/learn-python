{
 "nbformat": 4,
 "nbformat_minor": 2,
 "metadata": {
  "language_info": {
   "name": "python",
   "codemirror_mode": {
    "name": "ipython",
    "version": 3
   },
   "version": "3.7.3-final"
  },
  "orig_nbformat": 2,
  "file_extension": ".py",
  "mimetype": "text/x-python",
  "name": "python",
  "npconvert_exporter": "python",
  "pygments_lexer": "ipython3",
  "version": 3,
  "kernelspec": {
   "name": "python3",
   "display_name": "Python 3"
  }
 },
 "cells": [
  {
   "cell_type": "code",
   "execution_count": 18,
   "metadata": {},
   "outputs": [
    {
     "output_type": "execute_result",
     "data": {
      "text/plain": "'\\n   \\n    for i in range(1, n+1):\\n        max_val = INT_MINIMUM\\n\\n        for j in range(i):\\n            max_val = max(max_val, price[j] + value[i-j-1])\\n\\n        value[i] = max_val\\n    return value[n] '"
     },
     "metadata": {},
     "execution_count": 18
    }
   ],
   "source": [
    "INT_MINIMUM = 32767 #constant value\n",
    "value = [0] + [-1*INT_MINIMUM]*5\n",
    "\n",
    "def rod_cut(price, n):\n",
    "    global value\n",
    "    \n",
    "    if(value[n] >= 0):\n",
    "        return value[n]\n",
    "\n",
    "    max_val = -1*INT_MINIMUM\n",
    "\n",
    "    for i in range(1, n+1):\n",
    "        max_val = max(max_val, price[i] + rod_cut(price, n-i))\n",
    "    \n",
    "    value[n] = max_val\n",
    "    return value[n]\n",
    "\n",
    "\n"
   ]
  },
  {
   "cell_type": "code",
   "execution_count": 21,
   "metadata": {},
   "outputs": [
    {
     "output_type": "stream",
     "name": "stdout",
     "text": "Maximum revenue is 10\n"
    }
   ],
   "source": [
    "if __name__ == \"__main__\":\n",
    "    arr = [0,1,5,8,9]\n",
    "    # you can take input from user for the array\n",
    "    #size = len(arr)\n",
    "    # list starting from 1, element at index 0 is fake\n",
    "    print(\"Maximum revenue is\",rod_cut(arr,4))"
   ]
  },
  {
   "cell_type": "code",
   "execution_count": null,
   "metadata": {},
   "outputs": [],
   "source": []
  }
 ]
}