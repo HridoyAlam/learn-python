{
 "nbformat": 4,
 "nbformat_minor": 2,
 "metadata": {
  "language_info": {
   "name": "python",
   "codemirror_mode": {
    "name": "ipython",
    "version": 3
   },
   "version": "3.7.3-final"
  },
  "orig_nbformat": 2,
  "file_extension": ".py",
  "mimetype": "text/x-python",
  "name": "python",
  "npconvert_exporter": "python",
  "pygments_lexer": "ipython3",
  "version": 3,
  "kernelspec": {
   "name": "python3",
   "display_name": "Python 3"
  }
 },
 "cells": [
  {
   "cell_type": "code",
   "execution_count": 14,
   "metadata": {},
   "outputs": [],
   "source": [
    "def binary_search(L, x):\n",
    "    left, right= 0 ,len(L)-1\n",
    "\n",
    "    while (left <= right):\n",
    "        mid  = (left+right)//2\n",
    "\n",
    "        if L[mid] == x:\n",
    "            return mid\n",
    "        if L[mid] < x:\n",
    "            left = mid + 1\n",
    "        else:\n",
    "            right = mid-1\n",
    "    return -1"
   ]
  },
  {
   "cell_type": "code",
   "execution_count": 15,
   "metadata": {},
   "outputs": [
    {
     "ename": "SyntaxError",
     "evalue": "invalid syntax (<ipython-input-15-069c052d508c>, line 13)",
     "output_type": "error",
     "traceback": [
      "\u001b[1;36m  File \u001b[1;32m\"<ipython-input-15-069c052d508c>\"\u001b[1;36m, line \u001b[1;32m13\u001b[0m\n\u001b[1;33m    if L[position] == x;\u001b[0m\n\u001b[1;37m                       ^\u001b[0m\n\u001b[1;31mSyntaxError\u001b[0m\u001b[1;31m:\u001b[0m invalid syntax\n"
     ]
    }
   ],
   "source": [
    "if __name__ == \"__main__\":\n",
    "    L= [1,2,3,4,5,6,7,8,9]\n",
    "    #print(binary_search(L,8))\n",
    "\n",
    "    for x in range(1, 11):\n",
    "        position = binary_search(L,x)\n",
    "        if position == -1:\n",
    "            if x in L:\n",
    "                print(x, \"is in L,but funtion returned -1\")\n",
    "            else:\n",
    "                print(x, \"not in the list\")\n",
    "        else:\n",
    "            if L[position] == x;\n",
    "                print(x,\"Found in the currect position\")\n",
    "            else:\n",
    "                print(\"binaray function returned\", position, \"for\", x, \"which position\")\n",
    "    print(\"program terminated\")"
   ]
  },
  {
   "cell_type": "code",
   "execution_count": null,
   "metadata": {},
   "outputs": [],
   "source": []
  }
 ]
}