{
 "nbformat": 4,
 "nbformat_minor": 2,
 "metadata": {
  "language_info": {
   "name": "python",
   "codemirror_mode": {
    "name": "ipython",
    "version": 3
   },
   "version": "3.7.3-final"
  },
  "orig_nbformat": 2,
  "file_extension": ".py",
  "mimetype": "text/x-python",
  "name": "python",
  "npconvert_exporter": "python",
  "pygments_lexer": "ipython3",
  "version": 3,
  "kernelspec": {
   "name": "python3",
   "display_name": "Python 3"
  }
 },
 "cells": [
  {
   "cell_type": "code",
   "execution_count": 1,
   "metadata": {},
   "outputs": [],
   "source": [
    "def insertion_sort(L):\n",
    "    n = len(L)\n",
    "\n",
    "    for i in range(1, n):\n",
    "        item = L[i]\n",
    "\n",
    "        j= i-1\n",
    "\n",
    "        while j >=0 and L[j] > item:\n",
    "            L[j+1] = L[j]\n",
    "            j = j-1\n",
    "            L[j+1] = item"
   ]
  },
  {
   "cell_type": "code",
   "execution_count": null,
   "metadata": {},
   "outputs": [],
   "source": [
    "if __name__ == \"__main__\":\n",
    "    L = [1,5,8,1,9,4,10,20,19,8]\n",
    "    print(L)\n",
    "    insertion_sort(L)\n",
    "    print(L)"
   ]
  }
 ]
}