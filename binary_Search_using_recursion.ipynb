{
 "nbformat": 4,
 "nbformat_minor": 2,
 "metadata": {
  "language_info": {
   "name": "python",
   "codemirror_mode": {
    "name": "ipython",
    "version": 3
   },
   "version": "3.7.3-final"
  },
  "orig_nbformat": 2,
  "file_extension": ".py",
  "mimetype": "text/x-python",
  "name": "python",
  "npconvert_exporter": "python",
  "pygments_lexer": "ipython3",
  "version": 3,
  "kernelspec": {
   "name": "python3",
   "display_name": "Python 3"
  }
 },
 "cells": [
  {
   "cell_type": "code",
   "execution_count": 7,
   "metadata": {},
   "outputs": [],
   "source": [
    "def  binary_search(L,left, right, x):\n",
    "    if left > right:\n",
    "        return -1\n",
    "    \n",
    "    mid = (left + right)//2\n",
    "\n",
    "    if L[mid] == x:\n",
    "        return mid\n",
    "    if L[mid] < x:\n",
    "        return binary_search(L,mid+1,right,x)\n",
    "    \n",
    "    if L[mid] > x:\n",
    "        return binary_search(L, left, mid-1,x)\n",
    "\n",
    ""
   ]
  },
  {
   "cell_type": "code",
   "execution_count": 9,
   "metadata": {},
   "outputs": [
    {
     "output_type": "stream",
     "name": "stdout",
     "text": "1  find in the correct postion\nProgram terminated\n2  find in the correct postion\nProgram terminated\n3  find in the correct postion\nProgram terminated\n4  find in the correct postion\nProgram terminated\n5  find in the correct postion\nProgram terminated\n6  find in the correct postion\nProgram terminated\n7  find in the correct postion\nProgram terminated\n8  find in the correct postion\nProgram terminated\n9  find in the correct postion\nProgram terminated\n10  is not in the List\nProgram terminated\n"
    }
   ],
   "source": [
    "if __name__ ==\"__main__\":\n",
    "    L = [1,2,3,4,5,6,7,8,9]\n",
    "\n",
    "    left = 0\n",
    "    right = len(L) - 1\n",
    "\n",
    "    for x in range(1,11):\n",
    "        position = binary_search(L,left,right, x)\n",
    "         \n",
    "        if position == -1:\n",
    "            if x in L:\n",
    "                print(x,\" is in the L, But returned -1\")\n",
    "            else:\n",
    "                print(x,\" is not in the List\")\n",
    "        \n",
    "        else:\n",
    "            if L[position] == x:\n",
    "                print(x ,\" find in the correct postion\")\n",
    "            else:\n",
    "                print(\"Binarary position returned\", position, \"for\",x,\"which is not correct\")\n",
    "        print(\"Program terminated\")\n",
    ""
   ]
  },
  {
   "cell_type": "code",
   "execution_count": null,
   "metadata": {},
   "outputs": [],
   "source": []
  }
 ]
}