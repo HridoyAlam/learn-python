{
 "cells": [
  {
   "cell_type": "code",
   "execution_count": 15,
   "metadata": {},
   "outputs": [],
   "source": [
    "def average(L):\n",
    "    if not L:\n",
    "        return None\n",
    "    return sum(L)/len(L)\n",
    "#unittest\n",
    "'''\n",
    "def test_average():\n",
    "    assert 3.0 == average([1,2,3,4,5])\n",
    "'''\n",
    "#driven test\n",
    "def test_average():\n",
    "    #create dictionary\n",
    "    test_cases =[\n",
    "        {\n",
    "            \"name\":\"simple case 1\",\n",
    "            \"input\":[1,2,3],\n",
    "            \"expected\": 2.0\n",
    "        },\n",
    "        {\n",
    "            \"name\":\"simple case 2\",\n",
    "            \"input\":[1,2,3,4],\n",
    "            \"expected\": 2.5\n",
    "        },\n",
    "        {\n",
    "            \"name\":\"List with one item\",\n",
    "            \"input\":[100],\n",
    "            \"expected\": 100.0\n",
    "        },\n",
    "        {\n",
    "            \"name\":\"Empty List\",\n",
    "            \"input\":[],\n",
    "            \"expected\": None\n",
    "        }\n",
    "    ]\n",
    "    \n",
    "    for test_case in test_cases:\n",
    "        assert test_case[\"expected\"] == average(test_case[\"input\"]), test_case[\"name\"]"
   ]
  },
  {
   "cell_type": "code",
   "execution_count": 3,
   "metadata": {},
   "outputs": [
    {
     "name": "stdout",
     "output_type": "stream",
     "text": [
      "Test Passred\n"
     ]
    }
   ],
   "source": [
    "'''if __name__ == \"__main__\":\n",
    "    L = [1,2,3,4,5]\n",
    "    expected_result = 3.0\n",
    "    result = average(L)\n",
    "    if expected_result==result:\n",
    "        print(\"Test Passed\")\n",
    "    else:\n",
    "        print(\"Test Failed\", \"recieved=\",result,\"expected:\",expected_result)\n",
    "        '''"
   ]
  },
  {
   "cell_type": "code",
   "execution_count": 9,
   "metadata": {},
   "outputs": [],
   "source": [
    "#using asseration function\n",
    "'''if __name__== \"__main__\":\n",
    "    L = [1,2,3,4,5]\n",
    "    expected_result = 3.0\n",
    "    assert expected_result == average(L), \"average() produced incorrect result\"\n",
    "    \n",
    "    '''\n",
    "        "
   ]
  },
  {
   "cell_type": "code",
   "execution_count": null,
   "metadata": {},
   "outputs": [],
   "source": []
  },
  {
   "cell_type": "code",
   "execution_count": null,
   "metadata": {},
   "outputs": [],
   "source": []
  }
 ],
 "metadata": {
  "kernelspec": {
   "display_name": "Python 3",
   "language": "python",
   "name": "python3"
  },
  "language_info": {
   "codemirror_mode": {
    "name": "ipython",
    "version": 3
   },
   "file_extension": ".py",
   "mimetype": "text/x-python",
   "name": "python",
   "nbconvert_exporter": "python",
   "pygments_lexer": "ipython3",
   "version": "3.7.3"
  }
 },
 "nbformat": 4,
 "nbformat_minor": 2
}
