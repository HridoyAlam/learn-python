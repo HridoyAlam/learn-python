{
 "nbformat": 4,
 "nbformat_minor": 2,
 "metadata": {
  "language_info": {
   "name": "python",
   "codemirror_mode": {
    "name": "ipython",
    "version": 3
   },
   "version": "3.7.3-final"
  },
  "orig_nbformat": 2,
  "file_extension": ".py",
  "mimetype": "text/x-python",
  "name": "python",
  "npconvert_exporter": "python",
  "pygments_lexer": "ipython3",
  "version": 3,
  "kernelspec": {
   "name": "python3",
   "display_name": "Python 3"
  }
 },
 "cells": [
  {
   "cell_type": "code",
   "execution_count": 10,
   "metadata": {},
   "outputs": [],
   "source": [
    "'''\n",
    "def linear_serch(L, x):\n",
    "    n = len(L)\n",
    "    i=0\n",
    "    while i < n:\n",
    "        if L[i] == x:\n",
    "            return i\n",
    "\n",
    "        i +=1\n",
    "    i = -1\n",
    "    return i\n",
    "        '''\n",
    "\n",
    "def linear_search(L,value):\n",
    "    n = len(L)\n",
    "\n",
    "    for i in range(n):\n",
    "        if L[i] == value:\n",
    "            return i\n",
    "    return -1\n"
   ]
  },
  {
   "cell_type": "code",
   "execution_count": 12,
   "metadata": {},
   "outputs": [
    {
     "name": "stdout",
     "output_type": "stream",
     "text": "3\n"
    }
   ],
   "source": [
    "if __name__ == \"__main__\":\n",
    "    L = [1,2,3,4]\n",
    "    print(linear_serch(L,4))"
   ]
  },
  {
   "cell_type": "code",
   "execution_count": null,
   "metadata": {},
   "outputs": [],
   "source": []
  }
 ]
}