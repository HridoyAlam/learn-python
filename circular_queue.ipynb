{
 "nbformat": 4,
 "nbformat_minor": 2,
 "metadata": {
  "language_info": {
   "name": "python",
   "codemirror_mode": {
    "name": "ipython",
    "version": 3
   },
   "version": "3.7.3-final"
  },
  "orig_nbformat": 2,
  "file_extension": ".py",
  "mimetype": "text/x-python",
  "name": "python",
  "npconvert_exporter": "python",
  "pygments_lexer": "ipython3",
  "version": 3,
  "kernelspec": {
   "name": "python3",
   "display_name": "Python 3"
  }
 },
 "cells": [
  {
   "cell_type": "code",
   "execution_count": 14,
   "metadata": {},
   "outputs": [],
   "source": [
    "class Circular_queue:\n",
    "    \n",
    "    def __init__(self,size):\n",
    "        self.items = [0] * size\n",
    "        self.max_size = size\n",
    "        self.head, self.tail, self.size = 0,0,0\n",
    "\n",
    "    def enque(self, item):\n",
    "        if self.is_full():\n",
    "            print(\"Queue is Full\")\n",
    "            return\n",
    "        \n",
    "        print(\"Insetion\", item)\n",
    "        self.items[self.tail] = item\n",
    "        self.tail = (self.tail + 1) % self.max_size\n",
    "        self.size +=1\n",
    "    \n",
    "    def deque(self):\n",
    "        item  =self.items[self.head]\n",
    "        self.head = (self.head + 1) % self.max_size\n",
    "        self.size -=1\n",
    "        return item\n",
    "    \n",
    "    def is_empty(self):\n",
    "        if self.size == 0:\n",
    "            return True\n",
    "        return False\n",
    "\n",
    "    def is_full(self):\n",
    "        if self.size == self.max_size:\n",
    "            return True\n",
    "        return False"
   ]
  },
  {
   "cell_type": "code",
   "execution_count": 15,
   "metadata": {},
   "outputs": [
    {
     "output_type": "stream",
     "name": "stdout",
     "text": "Insetion Hridoy\nInsetion Mishu\nInsetion jahid\nQueue is Full\nHridoy\nMishu\njahid\nInsetion Arjin\n['Arjin', 'Mishu', 'jahid']\nHead:  0\nTail:  1\n"
    }
   ],
   "source": [
    "if __name__ == \"__main__\":\n",
    "\n",
    "    q=Circular_queue(3)\n",
    "\n",
    "    q.enque(\"Hridoy\")\n",
    "    q.enque(\"Mishu\")\n",
    "    q.enque(\"jahid\")\n",
    "    q.enque(\"Arjin\")\n",
    "\n",
    "    while not q.is_empty():\n",
    "        person = q.deque()\n",
    "        print(person)\n",
    "\n",
    "    q.enque(\"Arjin\")\n",
    "\n",
    "    print(q.items)\n",
    "    print(\"Head: \", q.head)\n",
    "    print(\"Tail: \",q.tail)"
   ]
  },
  {
   "cell_type": "code",
   "execution_count": null,
   "metadata": {},
   "outputs": [],
   "source": []
  }
 ]
}