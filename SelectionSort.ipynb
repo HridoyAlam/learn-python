{
 "nbformat": 4,
 "nbformat_minor": 2,
 "metadata": {
  "language_info": {
   "name": "python",
   "codemirror_mode": {
    "name": "ipython",
    "version": 3
   },
   "version": "3.7.3-final"
  },
  "orig_nbformat": 2,
  "file_extension": ".py",
  "mimetype": "text/x-python",
  "name": "python",
  "npconvert_exporter": "python",
  "pygments_lexer": "ipython3",
  "version": 3,
  "kernelspec": {
   "name": "python3",
   "display_name": "Python 3"
  }
 },
 "cells": [
  {
   "cell_type": "code",
   "execution_count": 9,
   "metadata": {},
   "outputs": [],
   "source": [
    "def selection_sort(L):\n",
    "    n = len(L)\n",
    "    for i in range(0, n-1):\n",
    "        index_min = i\n",
    "        for j in range(i+1, n):\n",
    "            if L[j] < L[index_min]:\n",
    "                index_min = j\n",
    "            if index_min != i:\n",
    "                L[i],L[index_min] = L[index_min],L[i]\n"
   ]
  },
  {
   "cell_type": "code",
   "execution_count": 11,
   "metadata": {},
   "outputs": [
    {
     "name": "stdout",
     "output_type": "stream",
     "text": "[10, 34, 53, 1, 6, 5, 90]\n[6, 1, 10, 34, 53, 5, 90]\n"
    }
   ],
   "source": [
    "if __name__ == \"__main__\":\n",
    "    L = [10,34,53,1,6,5,90]\n",
    "    print(L)\n",
    "    selection_sort(L)\n",
    "    print(L)"
   ]
  },
  {
   "cell_type": "code",
   "execution_count": null,
   "metadata": {},
   "outputs": [],
   "source": []
  }
 ]
}